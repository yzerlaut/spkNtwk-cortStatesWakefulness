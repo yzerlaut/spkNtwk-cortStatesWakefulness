{
 "cells": [
  {
   "cell_type": "code",
   "execution_count": 1,
   "metadata": {},
   "outputs": [],
   "source": [
    "from graphs.my_graph import graphs # my custom dataviz environment\n",
    "mg = graphs('notebook') # initialize a visualization env optimize for notebook display\n",
    "import numpy as np"
   ]
  },
  {
   "cell_type": "code",
   "execution_count": 12,
   "metadata": {},
   "outputs": [
    {
     "data": {
      "image/png": "[encoded data removed]",
      "text/plain": [
       "<Figure size 179.28x101.088 with 1 Axes>"
      ]
     },
     "metadata": {
      "needs_background": "light"
     },
     "output_type": "display_data"
    }
   ],
   "source": [
    "from data_analysis.signal_library.classical_functions import gaussian, gaussian_cumproba\n",
    "mg = graphs('manuscript') # initialize a visualization env optimize for notebook display\n",
    "x = np.linspace(-3,3)\n",
    "fig, ax = mg.figure(with_legend_space=True)\n",
    "mg.plot(x, 100.*gaussian(x, std=0.8)/np.max(gaussian(x, std=0.8)), ax=ax, no_set=True, color=mg.g)\n",
    "mg.plot(x, 100.*gaussian_cumproba(x), ax=ax, no_set=True, color=mg.cyan)\n",
    "mg.set_plot(ax, xlabel='afferent input', ylabel=)"
   ]
  },
  {
   "cell_type": "code",
   "execution_count": 8,
   "metadata": {},
   "outputs": [],
   "source": [
    "mg.figure?"
   ]
  },
  {
   "cell_type": "code",
   "execution_count": null,
   "metadata": {},
   "outputs": [],
   "source": []
  }
 ],
 "metadata": {
  "kernelspec": {
   "display_name": "Python 3",
   "language": "python",
   "name": "python3"
  },
  "language_info": {
   "codemirror_mode": {
    "name": "ipython",
    "version": 3
   },
   "file_extension": ".py",
   "mimetype": "text/x-python",
   "name": "python",
   "nbconvert_exporter": "python",
   "pygments_lexer": "ipython3",
   "version": "3.6.5"
  }
 },
 "nbformat": 4,
 "nbformat_minor": 2
}
